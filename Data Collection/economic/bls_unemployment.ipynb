{
 "cells": [
  {
   "cell_type": "code",
   "execution_count": 1,
   "metadata": {},
   "outputs": [
    {
     "name": "stdout",
     "output_type": "stream",
     "text": [
      "             date  urr    state\n",
      "0      1976-01-01  6.6  Alabama\n",
      "1      1976-02-01  6.6  Alabama\n",
      "2      1976-03-01  6.6  Alabama\n",
      "3      1976-04-01  6.5  Alabama\n",
      "4      1976-05-01  6.4  Alabama\n",
      "...           ...  ...      ...\n",
      "28995  2023-12-01  2.9  Wyoming\n",
      "28996  2024-01-01  2.8  Wyoming\n",
      "28997  2024-02-01  2.8  Wyoming\n",
      "28998  2024-03-01  2.8  Wyoming\n",
      "28999  2024-04-01  2.8  Wyoming\n",
      "\n",
      "[29000 rows x 3 columns]\n"
     ]
    }
   ],
   "source": [
    "import requests\n",
    "import pandas as pd\n",
    "\n",
    "# Replace 'your_api_key' with your actual FRED API key\n",
    "api_key = '72271d1fc3590d9edc25838eab1aff0d'\n",
    "\n",
    "# List of state series IDs (example, not complete)\n",
    "state_series_ids = {\n",
    "'Alabama': 'ALUR',\n",
    "    'Alaska': 'AKUR',\n",
    "    'Arizona': 'AZUR',\n",
    "    'Arkansas': 'ARUR',\n",
    "    'California': 'CAUR',\n",
    "    'Colorado': 'COUR',\n",
    "    'Connecticut': 'CTUR',\n",
    "    'Delaware': 'DEUR',\n",
    "    'Florida': 'FLUR',\n",
    "    'Georgia': 'GAUR',\n",
    "    'Hawaii': 'HIUR',\n",
    "    'Idaho': 'IDUR',\n",
    "    'Illinois': 'ILUR',\n",
    "    'Indiana': 'INUR',\n",
    "    'Iowa': 'IAUR',\n",
    "    'Kansas': 'KSUR',\n",
    "    'Kentucky': 'KYUR',\n",
    "    'Louisiana': 'LAUR',\n",
    "    'Maine': 'MEUR',\n",
    "    'Maryland': 'MDUR',\n",
    "    'Massachusetts': 'MAUR',\n",
    "    'Michigan': 'MIUR',\n",
    "    'Minnesota': 'MNUR',\n",
    "    'Mississippi': 'MSUR',\n",
    "    'Missouri': 'MOUR',\n",
    "    'Montana': 'MTUR',\n",
    "    'Nebraska': 'NEUR',\n",
    "    'Nevada': 'NVUR',\n",
    "    'New Hampshire': 'NHUR',\n",
    "    'New Jersey': 'NJUR',\n",
    "    'New Mexico': 'NMUR',\n",
    "    'New York': 'NYUR',\n",
    "    'North Carolina': 'NCUR',\n",
    "    'North Dakota': 'NDUR',\n",
    "    'Ohio': 'OHUR',\n",
    "    'Oklahoma': 'OKUR',\n",
    "    'Oregon': 'ORUR',\n",
    "    'Pennsylvania': 'PAUR',\n",
    "    'Rhode Island': 'RIUR',\n",
    "    'South Carolina': 'SCUR',\n",
    "    'South Dakota': 'SDUR',\n",
    "    'Tennessee': 'TNUR',\n",
    "    'Texas': 'TXUR',\n",
    "    'Utah': 'UTUR',\n",
    "    'Vermont': 'VTUR',\n",
    "    'Virginia': 'VAUR',\n",
    "    'Washington': 'WAUR',\n",
    "    'West Virginia': 'WVUR',\n",
    "    'Wisconsin': 'WIUR',\n",
    "    'Wyoming': 'WYUR'\n",
    "}\n",
    "\n",
    "# Base URL for the FRED API\n",
    "base_url = 'https://api.stlouisfed.org/fred/series/observations'\n",
    "\n",
    "# Function to fetch yearly unemployment data for a given state\n",
    "def fetch_unemployment_data(series_id, api_key):\n",
    "    params = {\n",
    "        'series_id': series_id,\n",
    "        'api_key': api_key,\n",
    "        'file_type': 'json',\n",
    "        'frequency': 'm'  # 'a' for annual\n",
    "    }\n",
    "    response = requests.get(base_url, params=params)\n",
    "    data = response.json()\n",
    "    return data['observations']\n",
    "\n",
    "# Fetch data for all states\n",
    "unemployment_data = {}\n",
    "for state, series_id in state_series_ids.items():\n",
    "    unemployment_data[state] = fetch_unemployment_data(series_id, api_key)\n",
    "\n",
    "# Convert the data to a DataFrame for easier analysis\n",
    "df_list = []\n",
    "for state, observations in unemployment_data.items():\n",
    "    state_df = pd.DataFrame(observations)\n",
    "    state_df['state'] = state\n",
    "    state_df['urr'] = pd.to_numeric(state_df['value'])  # Convert values to numeric\n",
    "    state_df = state_df[['date', 'urr', 'state']]  # Select relevant columns\n",
    "    df_list.append(state_df)\n",
    "\n",
    "all_states_df = pd.concat(df_list, ignore_index=True)\n",
    "\n",
    "# Display the DataFrame\n",
    "print(all_states_df)\n",
    "\n",
    "# Save the DataFrame to a CSV file\n",
    "all_states_df.to_csv('unemployment_by_state_by_year.csv', index=False)\n"
   ]
  },
  {
   "cell_type": "code",
   "execution_count": 2,
   "metadata": {},
   "outputs": [],
   "source": [
    "all_states_df\n",
    "all_states_df['date'] = pd.to_datetime(all_states_df['date'])\n",
    "all_states_df['year'] = all_states_df['date'].dt.year\n",
    "all_states_df = all_states_df.loc[all_states_df.year >= 2008]\n",
    "all_states_df['urr'] = pd.to_numeric(all_states_df['urr'])\n",
    "all_states_df_year = all_states_df.groupby(['year', 'state'])['urr'].mean().reset_index()"
   ]
  },
  {
   "cell_type": "code",
   "execution_count": 3,
   "metadata": {},
   "outputs": [],
   "source": [
    "api_key = '72271d1fc3590d9edc25838eab1aff0d'\n",
    "base_url = 'https://api.stlouisfed.org/fred/series/observations'"
   ]
  },
  {
   "cell_type": "code",
   "execution_count": 4,
   "metadata": {},
   "outputs": [],
   "source": [
    "all_states_df_year.sort_values(by=['state','year'])\n",
    "all_states_df_year.to_csv('C:/Users/appar/OneDrive/jup_nb/urr.csv')"
   ]
  },
  {
   "cell_type": "code",
   "execution_count": 5,
   "metadata": {},
   "outputs": [],
   "source": [
    "def fetch_data(series_id,api_key, measure):\n",
    "    params = {\n",
    "        'series_id': series_id,\n",
    "        'api_key': api_key,\n",
    "        'file_type': 'json',\n",
    "        'frequency': 'm'  # 'a' for annual\n",
    "    }\n",
    "    response = requests.get(base_url, params=params)\n",
    "    data = response.json()\n",
    "    \n",
    "    df = pd.DataFrame(data['observations'])\n",
    "    df['date'] = pd.to_datetime(df['date'])\n",
    "    df['year'] = df['date'].dt.year\n",
    "    df = df.loc[df.year >= 2008]\n",
    "    index_to_drop  = df[df.value == '.'].index\n",
    "    df.drop(index_to_drop, inplace=True)\n",
    "    df[measure] = pd.to_numeric(df['value'])\n",
    "    df_year = df.groupby(['year'])[measure].mean().reset_index()\n",
    "    return df_year"
   ]
  },
  {
   "cell_type": "code",
   "execution_count": 6,
   "metadata": {},
   "outputs": [],
   "source": [
    "consumer_sentiment_series = 'UMCSENT'\n",
    "consumer_sentiment_df_year = fetch_data(consumer_sentiment_series, api_key, 'cons_sent')"
   ]
  },
  {
   "cell_type": "code",
   "execution_count": 8,
   "metadata": {},
   "outputs": [],
   "source": [
    "cpi_median = 'MEDCPIM158SFRBCLE'\n",
    "cpi_median_df_year = fetch_data(cpi_median, api_key, 'cpi')"
   ]
  },
  {
   "cell_type": "code",
   "execution_count": 9,
   "metadata": {},
   "outputs": [],
   "source": [
    "cpi_median_df_year.head()\n",
    "cpi_median_df_year['pct_change'] = cpi_median_df_year.cpi.pct_change()\n",
    "cpi_median_df_year.to_csv('C:/Users/appar/OneDrive/jup_nb/cpi.csv')"
   ]
  },
  {
   "cell_type": "code",
   "execution_count": 10,
   "metadata": {},
   "outputs": [],
   "source": [
    "volatility_index = 'VIXCLS'\n",
    "volatility_df_year = fetch_data(volatility_index, api_key, 'volatility')"
   ]
  },
  {
   "cell_type": "code",
   "execution_count": 11,
   "metadata": {},
   "outputs": [],
   "source": [
    "volatility_df_year\n",
    "volatility_df_year['pct_change'] = volatility_df_year.volatility.pct_change()\n",
    "volatility_df_year.to_csv('C:/Users/appar/OneDrive/jup_nb/volatility.csv')"
   ]
  },
  {
   "cell_type": "code",
   "execution_count": 12,
   "metadata": {},
   "outputs": [],
   "source": [
    "nasdaq_index = 'NASDAQCOM'\n",
    "nasdaq_df_year = fetch_data(nasdaq_index, api_key, 'NASDAQ')"
   ]
  },
  {
   "cell_type": "code",
   "execution_count": 13,
   "metadata": {},
   "outputs": [],
   "source": [
    "nasdaq_df_year['pct_change'] = nasdaq_df_year.NASDAQ.pct_change()\n",
    "nasdaq_df_year.to_csv('C:/Users/appar/OneDrive/jup_nb/nasdaq.csv')"
   ]
  },
  {
   "cell_type": "code",
   "execution_count": 157,
   "metadata": {},
   "outputs": [],
   "source": [
    "all_states_df_year = all_states_df_year.sort_values(['state','year']).reset_index()"
   ]
  },
  {
   "cell_type": "code",
   "execution_count": 161,
   "metadata": {},
   "outputs": [],
   "source": [
    "all_states_df_year.to_csv('C:/Users/appar/OneDrive/jup_nb/unemployment.csv')"
   ]
  },
  {
   "cell_type": "code",
   "execution_count": null,
   "metadata": {},
   "outputs": [],
   "source": []
  }
 ],
 "metadata": {
  "kernelspec": {
   "display_name": "Python 3",
   "language": "python",
   "name": "python3"
  },
  "language_info": {
   "codemirror_mode": {
    "name": "ipython",
    "version": 3
   },
   "file_extension": ".py",
   "mimetype": "text/x-python",
   "name": "python",
   "nbconvert_exporter": "python",
   "pygments_lexer": "ipython3",
   "version": "3.11.8"
  }
 },
 "nbformat": 4,
 "nbformat_minor": 2
}
