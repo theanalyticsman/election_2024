{
 "cells": [
  {
   "cell_type": "code",
   "execution_count": 1,
   "metadata": {},
   "outputs": [],
   "source": [
    "from census import Census\n",
    "from us import states\n",
    "import pandas as pd\n",
    "import geopandas as gpd\n",
    "import duckdb as duck"
   ]
  },
  {
   "cell_type": "code",
   "execution_count": 2,
   "metadata": {},
   "outputs": [],
   "source": [
    "api_key = '19744ba94a6c4a1e1c832a117d3a932a6043451b'"
   ]
  },
  {
   "cell_type": "code",
   "execution_count": 20,
   "metadata": {},
   "outputs": [],
   "source": [
    "variables = [\n",
    "'NAME',\n",
    "'GEO_ID',\n",
    "'B01001D_001E',\n",
    "'B01001D_002E',\n",
    "'B01001D_017E',\n",
    "'B01001E_001E',\n",
    "'B01001E_002E',\n",
    "'B01001E_017E',\n",
    "'B01001G_001E',\n",
    "'B01001G_002E',\n",
    "'B01001G_017E',\n",
    "'B01001H_001E',\n",
    "'B01001H_002E',\n",
    "'B01001H_017E',\n",
    "'B01001I_001E',\n",
    "'B01001I_002E',\n",
    "'B01001I_017E',\n",
    "'B01002_002E',\n",
    "'B01002_003E',\n",
    "'B01003_001E',\n",
    "'B06011_001E',\n",
    "'B15003_021E',\n",
    "'B15003_022E',\n",
    "'B15003_023E',\n",
    "'B15003_024E',\n",
    "'B15003_025E',\n",
    "'B01001_002E',\n",
    "'B01001_026E',\n",
    "'B01001B_001E',\n",
    "'B01001B_002E',\n",
    "'B01001B_017E',\n",
    "'B01001C_001E',\n",
    "'B01001C_002E',\n",
    "'B01001C_017E'\n",
    "\n",
    "]\n",
    "\n",
    "columns = [\n",
    "'COUNTY',\n",
    "'FIPS',\n",
    "'POPULATION_ASIAN_ALL',\n",
    "'POPULATION_ASIAN_MALE',\n",
    "'POPULATION_ASIAN_FEMALE',\n",
    "'POPULATION_HAWAIIAN_AND_PACIFIC_ISLANDER_ALL',\n",
    "'POPULATION_HAWAIIAN_AND_PACIFIC_ISLANDER_MALE',\n",
    "'POPULATION_HAWAIIAN_AND_PACIFIC_ISLANDER_FEMALE',\n",
    "'POPULATION_TWO_OR_MORE_RACE_ALL',\n",
    "'POPULATION_TWO_OR_MORE_RACE_MALE',\n",
    "'POPULATION_TWO_OR_MORE_RACE_FEMALE',\n",
    "'POPULATION_WHITE_NOT_LATINO_ALL',\n",
    "'POPULATION_WHITE_NOT_LATINO_MALE',\n",
    "'POPULATION_WHITE_NOT_LATINO_FEMALE',\n",
    "'POPULATION_HISPANIC_OR_LATINO_ALL',\n",
    "'POPULATION_HISPANIC_OR_LATINO_MALE',\n",
    "'POPULATION_HISPANIC_OR_LATINO_FEMALE',\n",
    "'AGE_MEDIAN_ALL_MALE',\n",
    "'AGE_MEDIAN_ALL_FEMALE',\n",
    "'POPULATION_TOTAL',\n",
    "'INCOME_MEDIAN_INCOME_12_MONTH',\n",
    "'EDUCATION_ASSOCIATE_DEGREE',\n",
    "'EDUCATION_BACHELOR_DEGREE',\n",
    "'EDUCATION_MASTER_DEGREE',\n",
    "'EDUCATION_SCHOOL_DEGREE',\n",
    "'EDUCATION_DOCTORATE_DEGREE',\n",
    "'GEO_STATE_FIPS',\n",
    "'GEO_COUNTY_FIPS',\n",
    "'POPULATION_TOTAL_MALE',\n",
    "'POPULATION_TOTAL_FEMALE',\n",
    "'POPULATION_BLACK_ALL',\n",
    "'POPULATION_BLACK_MALE',\n",
    "'POPULATION_BLACK_FEMALE',\n",
    "'POPULATION_NA_OR_AN_ALL',\n",
    "'POPULATION_NA_OR_AN_MALE',\n",
    "'POPULATION_NA_OR_AN_FEMALE'\n",
    "\n",
    "]\n",
    "df = pd.DataFrame(columns=columns)"
   ]
  },
  {
   "cell_type": "code",
   "execution_count": 21,
   "metadata": {},
   "outputs": [
    {
     "name": "stderr",
     "output_type": "stream",
     "text": [
      "C:\\Users\\appar\\AppData\\Local\\Temp\\ipykernel_99528\\3436611790.py:8: FutureWarning: The behavior of DataFrame concatenation with empty or all-NA entries is deprecated. In a future version, this will no longer exclude empty or all-NA columns when determining the result dtypes. To retain the old behavior, exclude the relevant entries before the concat operation.\n",
      "  df = pd.concat([df, df_temp])\n"
     ]
    }
   ],
   "source": [
    "year = [2012, 2013, 2014, 2015, 2016, 2017, 2018, 2019, 2020, 2021, 2022]\n",
    "\n",
    "for y in year:\n",
    "    data = c.acs5.get(variables, {'for': 'county:*'}, year=y)\n",
    "    df_temp = pd.DataFrame(data)\n",
    "    df_temp.columns = columns\n",
    "    df_temp['YEAR'] = y\n",
    "    df = pd.concat([df, df_temp])"
   ]
  },
  {
   "cell_type": "code",
   "execution_count": 22,
   "metadata": {},
   "outputs": [],
   "source": [
    "census_county = df.copy()"
   ]
  },
  {
   "cell_type": "code",
   "execution_count": 23,
   "metadata": {},
   "outputs": [
    {
     "data": {
      "text/plain": [
       "(35426, 37)"
      ]
     },
     "execution_count": 23,
     "metadata": {},
     "output_type": "execute_result"
    }
   ],
   "source": [
    "census_county.shape"
   ]
  },
  {
   "cell_type": "code",
   "execution_count": 25,
   "metadata": {},
   "outputs": [],
   "source": [
    "# Load the shapefile\n",
    "counties_raw = gpd.read_file(\"C:/Users/appar/OneDrive/jup_nb/cb_2018_us_county_500k/cb_2018_us_county_500k.shp\",)\n",
    "counties_raw = counties_raw.to_crs(epsg=2163)\n",
    "counties = counties_raw.copy()\n",
    "# Calculate area of each county and sort\n",
    "counties['area_sqm'] = counties.ALAND + counties.AWATER\n",
    "counties['area_sqmi'] = counties['area_sqm'] / 2.59e+6  # convert to square miles\n",
    "counties['area_sqkm'] = counties['area_sqm'] / 10**6"
   ]
  },
  {
   "cell_type": "code",
   "execution_count": 26,
   "metadata": {},
   "outputs": [],
   "source": [
    "county_size = pd.DataFrame(counties)"
   ]
  },
  {
   "cell_type": "code",
   "execution_count": 27,
   "metadata": {},
   "outputs": [
    {
     "data": {
      "text/html": [
       "<div>\n",
       "<style scoped>\n",
       "    .dataframe tbody tr th:only-of-type {\n",
       "        vertical-align: middle;\n",
       "    }\n",
       "\n",
       "    .dataframe tbody tr th {\n",
       "        vertical-align: top;\n",
       "    }\n",
       "\n",
       "    .dataframe thead th {\n",
       "        text-align: right;\n",
       "    }\n",
       "</style>\n",
       "<table border=\"1\" class=\"dataframe\">\n",
       "  <thead>\n",
       "    <tr style=\"text-align: right;\">\n",
       "      <th></th>\n",
       "      <th>STATEFP</th>\n",
       "      <th>COUNTYFP</th>\n",
       "      <th>COUNTYNS</th>\n",
       "      <th>AFFGEOID</th>\n",
       "      <th>GEOID</th>\n",
       "      <th>NAME</th>\n",
       "      <th>LSAD</th>\n",
       "      <th>ALAND</th>\n",
       "      <th>AWATER</th>\n",
       "      <th>geometry</th>\n",
       "      <th>area_sqm</th>\n",
       "      <th>area_sqmi</th>\n",
       "      <th>area_sqkm</th>\n",
       "    </tr>\n",
       "  </thead>\n",
       "  <tbody>\n",
       "    <tr>\n",
       "      <th>1036</th>\n",
       "      <td>53</td>\n",
       "      <td>033</td>\n",
       "      <td>01531933</td>\n",
       "      <td>0500000US53033</td>\n",
       "      <td>53033</td>\n",
       "      <td>King</td>\n",
       "      <td>06</td>\n",
       "      <td>5478600963</td>\n",
       "      <td>497675093</td>\n",
       "      <td>MULTIPOLYGON (((-1653112.417 530493.679, -1652...</td>\n",
       "      <td>5976276056</td>\n",
       "      <td>2307.442493</td>\n",
       "      <td>5976.276056</td>\n",
       "    </tr>\n",
       "    <tr>\n",
       "      <th>2476</th>\n",
       "      <td>48</td>\n",
       "      <td>269</td>\n",
       "      <td>01383920</td>\n",
       "      <td>0500000US48269</td>\n",
       "      <td>48269</td>\n",
       "      <td>King</td>\n",
       "      <td>06</td>\n",
       "      <td>2359148814</td>\n",
       "      <td>6398044</td>\n",
       "      <td>POLYGON ((-48135.615 -1239308.947, -6617.449 -...</td>\n",
       "      <td>2365546858</td>\n",
       "      <td>913.338555</td>\n",
       "      <td>2365.546858</td>\n",
       "    </tr>\n",
       "  </tbody>\n",
       "</table>\n",
       "</div>"
      ],
      "text/plain": [
       "     STATEFP COUNTYFP  COUNTYNS        AFFGEOID  GEOID  NAME LSAD       ALAND  \\\n",
       "1036      53      033  01531933  0500000US53033  53033  King   06  5478600963   \n",
       "2476      48      269  01383920  0500000US48269  48269  King   06  2359148814   \n",
       "\n",
       "         AWATER                                           geometry  \\\n",
       "1036  497675093  MULTIPOLYGON (((-1653112.417 530493.679, -1652...   \n",
       "2476    6398044  POLYGON ((-48135.615 -1239308.947, -6617.449 -...   \n",
       "\n",
       "        area_sqm    area_sqmi    area_sqkm  \n",
       "1036  5976276056  2307.442493  5976.276056  \n",
       "2476  2365546858   913.338555  2365.546858  "
      ]
     },
     "execution_count": 27,
     "metadata": {},
     "output_type": "execute_result"
    }
   ],
   "source": [
    "county_size.loc[county_size.NAME == 'King']"
   ]
  },
  {
   "cell_type": "code",
   "execution_count": 28,
   "metadata": {},
   "outputs": [],
   "source": [
    "county_size = county_size.loc[:,['STATEFP', 'COUNTYFP', 'AFFGEOID', 'NAME','ALAND','AWATER','area_sqm', 'area_sqmi','area_sqkm']]"
   ]
  },
  {
   "cell_type": "code",
   "execution_count": 29,
   "metadata": {},
   "outputs": [],
   "source": [
    "county_size['FIPS'] = county_size['AFFGEOID']"
   ]
  },
  {
   "cell_type": "code",
   "execution_count": 30,
   "metadata": {},
   "outputs": [],
   "source": [
    "county_size.drop('AFFGEOID', inplace=True, axis=1)"
   ]
  },
  {
   "cell_type": "code",
   "execution_count": 31,
   "metadata": {},
   "outputs": [],
   "source": [
    "census_data_size = pd.merge(census_county, county_size.loc[:,['FIPS','ALAND','AWATER','area_sqm','area_sqmi','area_sqkm']], how='left')"
   ]
  },
  {
   "cell_type": "code",
   "execution_count": 35,
   "metadata": {},
   "outputs": [],
   "source": [
    "census_data_size.to_csv('C:/Users/appar/OneDrive/jup_nb/census_data.csv')"
   ]
  },
  {
   "cell_type": "code",
   "execution_count": 33,
   "metadata": {},
   "outputs": [
    {
     "data": {
      "text/html": [
       "<div>\n",
       "<style scoped>\n",
       "    .dataframe tbody tr th:only-of-type {\n",
       "        vertical-align: middle;\n",
       "    }\n",
       "\n",
       "    .dataframe tbody tr th {\n",
       "        vertical-align: top;\n",
       "    }\n",
       "\n",
       "    .dataframe thead th {\n",
       "        text-align: right;\n",
       "    }\n",
       "</style>\n",
       "<table border=\"1\" class=\"dataframe\">\n",
       "  <thead>\n",
       "    <tr style=\"text-align: right;\">\n",
       "      <th></th>\n",
       "      <th>STATEFP</th>\n",
       "      <th>COUNTYFP</th>\n",
       "      <th>NAME</th>\n",
       "      <th>ALAND</th>\n",
       "      <th>AWATER</th>\n",
       "      <th>area_sqm</th>\n",
       "      <th>area_sqmi</th>\n",
       "      <th>area_sqkm</th>\n",
       "      <th>FIPS</th>\n",
       "    </tr>\n",
       "  </thead>\n",
       "  <tbody>\n",
       "    <tr>\n",
       "      <th>56</th>\n",
       "      <td>09</td>\n",
       "      <td>009</td>\n",
       "      <td>New Haven</td>\n",
       "      <td>1565688367</td>\n",
       "      <td>667081242</td>\n",
       "      <td>2232769609</td>\n",
       "      <td>862.073208</td>\n",
       "      <td>2232.769609</td>\n",
       "      <td>0500000US09009</td>\n",
       "    </tr>\n",
       "    <tr>\n",
       "      <th>659</th>\n",
       "      <td>09</td>\n",
       "      <td>001</td>\n",
       "      <td>Fairfield</td>\n",
       "      <td>1618651428</td>\n",
       "      <td>549293518</td>\n",
       "      <td>2167944946</td>\n",
       "      <td>837.044381</td>\n",
       "      <td>2167.944946</td>\n",
       "      <td>0500000US09001</td>\n",
       "    </tr>\n",
       "    <tr>\n",
       "      <th>660</th>\n",
       "      <td>09</td>\n",
       "      <td>007</td>\n",
       "      <td>Middlesex</td>\n",
       "      <td>956493754</td>\n",
       "      <td>180679140</td>\n",
       "      <td>1137172894</td>\n",
       "      <td>439.062893</td>\n",
       "      <td>1137.172894</td>\n",
       "      <td>0500000US09007</td>\n",
       "    </tr>\n",
       "    <tr>\n",
       "      <th>661</th>\n",
       "      <td>09</td>\n",
       "      <td>011</td>\n",
       "      <td>New London</td>\n",
       "      <td>1722716728</td>\n",
       "      <td>276657755</td>\n",
       "      <td>1999374483</td>\n",
       "      <td>771.959260</td>\n",
       "      <td>1999.374483</td>\n",
       "      <td>0500000US09011</td>\n",
       "    </tr>\n",
       "    <tr>\n",
       "      <th>1238</th>\n",
       "      <td>09</td>\n",
       "      <td>005</td>\n",
       "      <td>Litchfield</td>\n",
       "      <td>2384116952</td>\n",
       "      <td>62334525</td>\n",
       "      <td>2446451477</td>\n",
       "      <td>944.575860</td>\n",
       "      <td>2446.451477</td>\n",
       "      <td>0500000US09005</td>\n",
       "    </tr>\n",
       "    <tr>\n",
       "      <th>1239</th>\n",
       "      <td>09</td>\n",
       "      <td>013</td>\n",
       "      <td>Tolland</td>\n",
       "      <td>1062807467</td>\n",
       "      <td>17549693</td>\n",
       "      <td>1080357160</td>\n",
       "      <td>417.126317</td>\n",
       "      <td>1080.357160</td>\n",
       "      <td>0500000US09013</td>\n",
       "    </tr>\n",
       "    <tr>\n",
       "      <th>1991</th>\n",
       "      <td>09</td>\n",
       "      <td>015</td>\n",
       "      <td>Windham</td>\n",
       "      <td>1328478475</td>\n",
       "      <td>21477921</td>\n",
       "      <td>1349956396</td>\n",
       "      <td>521.218686</td>\n",
       "      <td>1349.956396</td>\n",
       "      <td>0500000US09015</td>\n",
       "    </tr>\n",
       "    <tr>\n",
       "      <th>2003</th>\n",
       "      <td>09</td>\n",
       "      <td>003</td>\n",
       "      <td>Hartford</td>\n",
       "      <td>1903543897</td>\n",
       "      <td>40543777</td>\n",
       "      <td>1944087674</td>\n",
       "      <td>750.613002</td>\n",
       "      <td>1944.087674</td>\n",
       "      <td>0500000US09003</td>\n",
       "    </tr>\n",
       "  </tbody>\n",
       "</table>\n",
       "</div>"
      ],
      "text/plain": [
       "     STATEFP COUNTYFP        NAME       ALAND     AWATER    area_sqm  \\\n",
       "56        09      009   New Haven  1565688367  667081242  2232769609   \n",
       "659       09      001   Fairfield  1618651428  549293518  2167944946   \n",
       "660       09      007   Middlesex   956493754  180679140  1137172894   \n",
       "661       09      011  New London  1722716728  276657755  1999374483   \n",
       "1238      09      005  Litchfield  2384116952   62334525  2446451477   \n",
       "1239      09      013     Tolland  1062807467   17549693  1080357160   \n",
       "1991      09      015     Windham  1328478475   21477921  1349956396   \n",
       "2003      09      003    Hartford  1903543897   40543777  1944087674   \n",
       "\n",
       "       area_sqmi    area_sqkm            FIPS  \n",
       "56    862.073208  2232.769609  0500000US09009  \n",
       "659   837.044381  2167.944946  0500000US09001  \n",
       "660   439.062893  1137.172894  0500000US09007  \n",
       "661   771.959260  1999.374483  0500000US09011  \n",
       "1238  944.575860  2446.451477  0500000US09005  \n",
       "1239  417.126317  1080.357160  0500000US09013  \n",
       "1991  521.218686  1349.956396  0500000US09015  \n",
       "2003  750.613002  1944.087674  0500000US09003  "
      ]
     },
     "execution_count": 33,
     "metadata": {},
     "output_type": "execute_result"
    }
   ],
   "source": [
    "county_size.loc[county_size.STATEFP == '09']"
   ]
  }
 ],
 "metadata": {
  "kernelspec": {
   "display_name": "Python 3",
   "language": "python",
   "name": "python3"
  },
  "language_info": {
   "codemirror_mode": {
    "name": "ipython",
    "version": 3
   },
   "file_extension": ".py",
   "mimetype": "text/x-python",
   "name": "python",
   "nbconvert_exporter": "python",
   "pygments_lexer": "ipython3",
   "version": "3.11.8"
  }
 },
 "nbformat": 4,
 "nbformat_minor": 2
}
