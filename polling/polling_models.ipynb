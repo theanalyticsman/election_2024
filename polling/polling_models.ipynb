{
 "cells": [
  {
   "cell_type": "code",
   "execution_count": 12,
   "metadata": {},
   "outputs": [],
   "source": [
    "import pandas as pd\n",
    "from sklearn.ensemble import RandomForestRegressor\n",
    "from sklearn.metrics import mean_absolute_error\n",
    "from sklearn.model_selection import train_test_split"
   ]
  },
  {
   "cell_type": "code",
   "execution_count": 105,
   "metadata": {},
   "outputs": [],
   "source": [
    "polling_data = pd.read_csv('polls_only_model.csv')"
   ]
  },
  {
   "cell_type": "code",
   "execution_count": 106,
   "metadata": {},
   "outputs": [],
   "source": [
    "features = ['joe_biden_poll_avg', 'donald_trump_poll_avg',\n",
    "       'polling_delta_jb', 'days_to_election', 'month_of_poll', 'swing_state_False',\n",
    "       'swing_state_True','vote_percentage_delta_jb']"
   ]
  },
  {
   "cell_type": "code",
   "execution_count": 107,
   "metadata": {},
   "outputs": [],
   "source": [
    "X = polling_data.loc[:,features]"
   ]
  },
  {
   "cell_type": "code",
   "execution_count": 117,
   "metadata": {},
   "outputs": [],
   "source": [
    "X.dropna(inplace=True)"
   ]
  },
  {
   "cell_type": "code",
   "execution_count": 147,
   "metadata": {},
   "outputs": [],
   "source": [
    "distinct_months = X.month_of_poll.unique()"
   ]
  },
  {
   "cell_type": "code",
   "execution_count": 148,
   "metadata": {},
   "outputs": [
    {
     "data": {
      "text/plain": [
       "array([ 4,  5,  6,  7,  8,  9, 10, 11], dtype=int64)"
      ]
     },
     "execution_count": 148,
     "metadata": {},
     "output_type": "execute_result"
    }
   ],
   "source": [
    "distinct_months"
   ]
  },
  {
   "cell_type": "code",
   "execution_count": 120,
   "metadata": {},
   "outputs": [],
   "source": [
    "model_features = ['joe_biden_poll_avg', 'donald_trump_poll_avg',\n",
    "       'polling_delta_jb', 'days_to_election','swing_state_False',\n",
    "       'swing_state_True','vote_percentage_delta_jb']"
   ]
  },
  {
   "cell_type": "code",
   "execution_count": 121,
   "metadata": {},
   "outputs": [
    {
     "name": "stdout",
     "output_type": "stream",
     "text": [
      "4 660\n",
      "5 837\n",
      "6 1530\n",
      "7 1581\n",
      "8 1581\n",
      "9 1530\n",
      "10 1581\n",
      "11 153\n"
     ]
    }
   ],
   "source": [
    "for month in distinct_months:\n",
    "    print(month,len(X.loc[X.month_of_poll == month]))"
   ]
  },
  {
   "cell_type": "code",
   "execution_count": 144,
   "metadata": {},
   "outputs": [],
   "source": [
    "def run_model(X,y, model):\n",
    "    train_X, val_X, train_y, val_y = train_test_split(X, y,random_state = 1)\n",
    "    model.fit(train_X, train_y)\n",
    "    preds = model.predict(val_X)\n",
    "    mae = mean_absolute_error(val_y, preds)\n",
    "    features \n",
    "    return model, mae"
   ]
  },
  {
   "cell_type": "code",
   "execution_count": 149,
   "metadata": {},
   "outputs": [],
   "source": [
    "model_results = []\n",
    "forest_model = RandomForestRegressor()\n",
    "for month in distinct_months:\n",
    "    model_row = []\n",
    "    data = X.loc[X.month_of_poll == month]\n",
    "    data = data.loc[:,model_features]\n",
    "    y = data.pop('vote_percentage_delta_jb')\n",
    "    model, mae = run_model(data, y, forest_model)\n",
    "    feature_importance = model.feature_importances_\n",
    "    model_row.append(month)\n",
    "    model_row.append(mae)\n",
    "    for feature in feature_importance:\n",
    "        model_row.append(feature)\n",
    "    model_results.append(model_row)\n",
    "\n",
    "    "
   ]
  },
  {
   "cell_type": "code",
   "execution_count": 150,
   "metadata": {},
   "outputs": [
    {
     "name": "stdout",
     "output_type": "stream",
     "text": [
      "[4, 0.14923291339469588, 0.3742586599102268, 0.031581051224222334, 0.5577040048550149, 0.00033940090842918345, 0.014385344899477053, 0.02173153820262969]\n",
      "[5, 0.23167580800699403, 0.14544805109979994, 0.06229112227952921, 0.6700258646961386, 0.00046422896159203073, 0.06815543554804919, 0.05361529741489113]\n",
      "[6, 0.31042415595849066, 0.31931719410641335, 0.24056537011241663, 0.43750400761637137, 0.0001353770424849044, 0.0009489317568866994, 0.0015291193654270534]\n",
      "[7, 0.33523015539788775, 0.6552580915188061, 0.16746986920231324, 0.1532518612529226, 0.0002697385371603878, 0.012820312846554759, 0.010930126642242898]\n",
      "[8, 0.2620303448062579, 0.13853166355326577, 0.202997417765606, 0.6504534933208111, 0.0003377418135382018, 0.0019435915882568835, 0.005736091958521983]\n",
      "[9, 0.5412751855782727, 0.02007465893018587, 0.31802211227273214, 0.6547634940069145, 0.0007648899680993933, 0.002189940828283433, 0.004184903993784872]\n",
      "[10, 1.838382533918255, 0.11451811562160683, 0.16788018616742417, 0.6995440898871633, 0.005954772203029184, 0.00356674657518822, 0.008536089545588404]\n",
      "[11, 3.182973345964672, 0.31300750436499386, 0.2644014981091842, 0.4106280402087318, 0.001545710134316993, 0.0034105696386570357, 0.007006677544116063]\n"
     ]
    }
   ],
   "source": [
    "for results in model_results:\n",
    "    print(results)"
   ]
  },
  {
   "cell_type": "code",
   "execution_count": 151,
   "metadata": {},
   "outputs": [],
   "source": [
    "results_df = pd.DataFrame(model_results, columns=['month','mae','joe_biden_poll_avg', 'donald_trump_poll_avg', 'polling_delta_jb', 'days_to_election', 'swing_state_False', 'swing_state_True'])"
   ]
  },
  {
   "cell_type": "code",
   "execution_count": 152,
   "metadata": {},
   "outputs": [
    {
     "data": {
      "text/html": [
       "<div>\n",
       "<style scoped>\n",
       "    .dataframe tbody tr th:only-of-type {\n",
       "        vertical-align: middle;\n",
       "    }\n",
       "\n",
       "    .dataframe tbody tr th {\n",
       "        vertical-align: top;\n",
       "    }\n",
       "\n",
       "    .dataframe thead th {\n",
       "        text-align: right;\n",
       "    }\n",
       "</style>\n",
       "<table border=\"1\" class=\"dataframe\">\n",
       "  <thead>\n",
       "    <tr style=\"text-align: right;\">\n",
       "      <th></th>\n",
       "      <th>month</th>\n",
       "      <th>mae</th>\n",
       "      <th>joe_biden_poll_avg</th>\n",
       "      <th>donald_trump_poll_avg</th>\n",
       "      <th>polling_delta_jb</th>\n",
       "      <th>days_to_election</th>\n",
       "      <th>swing_state_False</th>\n",
       "      <th>swing_state_True</th>\n",
       "    </tr>\n",
       "  </thead>\n",
       "  <tbody>\n",
       "    <tr>\n",
       "      <th>0</th>\n",
       "      <td>4</td>\n",
       "      <td>0.149233</td>\n",
       "      <td>0.374259</td>\n",
       "      <td>0.031581</td>\n",
       "      <td>0.557704</td>\n",
       "      <td>0.000339</td>\n",
       "      <td>0.014385</td>\n",
       "      <td>0.021732</td>\n",
       "    </tr>\n",
       "    <tr>\n",
       "      <th>1</th>\n",
       "      <td>5</td>\n",
       "      <td>0.231676</td>\n",
       "      <td>0.145448</td>\n",
       "      <td>0.062291</td>\n",
       "      <td>0.670026</td>\n",
       "      <td>0.000464</td>\n",
       "      <td>0.068155</td>\n",
       "      <td>0.053615</td>\n",
       "    </tr>\n",
       "    <tr>\n",
       "      <th>2</th>\n",
       "      <td>6</td>\n",
       "      <td>0.310424</td>\n",
       "      <td>0.319317</td>\n",
       "      <td>0.240565</td>\n",
       "      <td>0.437504</td>\n",
       "      <td>0.000135</td>\n",
       "      <td>0.000949</td>\n",
       "      <td>0.001529</td>\n",
       "    </tr>\n",
       "    <tr>\n",
       "      <th>3</th>\n",
       "      <td>7</td>\n",
       "      <td>0.335230</td>\n",
       "      <td>0.655258</td>\n",
       "      <td>0.167470</td>\n",
       "      <td>0.153252</td>\n",
       "      <td>0.000270</td>\n",
       "      <td>0.012820</td>\n",
       "      <td>0.010930</td>\n",
       "    </tr>\n",
       "    <tr>\n",
       "      <th>4</th>\n",
       "      <td>8</td>\n",
       "      <td>0.262030</td>\n",
       "      <td>0.138532</td>\n",
       "      <td>0.202997</td>\n",
       "      <td>0.650453</td>\n",
       "      <td>0.000338</td>\n",
       "      <td>0.001944</td>\n",
       "      <td>0.005736</td>\n",
       "    </tr>\n",
       "    <tr>\n",
       "      <th>5</th>\n",
       "      <td>9</td>\n",
       "      <td>0.541275</td>\n",
       "      <td>0.020075</td>\n",
       "      <td>0.318022</td>\n",
       "      <td>0.654763</td>\n",
       "      <td>0.000765</td>\n",
       "      <td>0.002190</td>\n",
       "      <td>0.004185</td>\n",
       "    </tr>\n",
       "    <tr>\n",
       "      <th>6</th>\n",
       "      <td>10</td>\n",
       "      <td>1.838383</td>\n",
       "      <td>0.114518</td>\n",
       "      <td>0.167880</td>\n",
       "      <td>0.699544</td>\n",
       "      <td>0.005955</td>\n",
       "      <td>0.003567</td>\n",
       "      <td>0.008536</td>\n",
       "    </tr>\n",
       "    <tr>\n",
       "      <th>7</th>\n",
       "      <td>11</td>\n",
       "      <td>3.182973</td>\n",
       "      <td>0.313008</td>\n",
       "      <td>0.264401</td>\n",
       "      <td>0.410628</td>\n",
       "      <td>0.001546</td>\n",
       "      <td>0.003411</td>\n",
       "      <td>0.007007</td>\n",
       "    </tr>\n",
       "  </tbody>\n",
       "</table>\n",
       "</div>"
      ],
      "text/plain": [
       "   month       mae  joe_biden_poll_avg  donald_trump_poll_avg  \\\n",
       "0      4  0.149233            0.374259               0.031581   \n",
       "1      5  0.231676            0.145448               0.062291   \n",
       "2      6  0.310424            0.319317               0.240565   \n",
       "3      7  0.335230            0.655258               0.167470   \n",
       "4      8  0.262030            0.138532               0.202997   \n",
       "5      9  0.541275            0.020075               0.318022   \n",
       "6     10  1.838383            0.114518               0.167880   \n",
       "7     11  3.182973            0.313008               0.264401   \n",
       "\n",
       "   polling_delta_jb  days_to_election  swing_state_False  swing_state_True  \n",
       "0          0.557704          0.000339           0.014385          0.021732  \n",
       "1          0.670026          0.000464           0.068155          0.053615  \n",
       "2          0.437504          0.000135           0.000949          0.001529  \n",
       "3          0.153252          0.000270           0.012820          0.010930  \n",
       "4          0.650453          0.000338           0.001944          0.005736  \n",
       "5          0.654763          0.000765           0.002190          0.004185  \n",
       "6          0.699544          0.005955           0.003567          0.008536  \n",
       "7          0.410628          0.001546           0.003411          0.007007  "
      ]
     },
     "execution_count": 152,
     "metadata": {},
     "output_type": "execute_result"
    }
   ],
   "source": [
    "results_df"
   ]
  },
  {
   "cell_type": "code",
   "execution_count": null,
   "metadata": {},
   "outputs": [],
   "source": []
  }
 ],
 "metadata": {
  "kernelspec": {
   "display_name": "Python 3",
   "language": "python",
   "name": "python3"
  },
  "language_info": {
   "codemirror_mode": {
    "name": "ipython",
    "version": 3
   },
   "file_extension": ".py",
   "mimetype": "text/x-python",
   "name": "python",
   "nbconvert_exporter": "python",
   "pygments_lexer": "ipython3",
   "version": "3.11.8"
  }
 },
 "nbformat": 4,
 "nbformat_minor": 2
}
