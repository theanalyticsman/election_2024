{
 "cells": [
  {
   "cell_type": "code",
   "execution_count": 60,
   "metadata": {},
   "outputs": [
    {
     "name": "stderr",
     "output_type": "stream",
     "text": [
      "WARNING (pytensor.configdefaults): g++ not available, if using conda: `conda install m2w64-toolchain`\n",
      "WARNING (pytensor.configdefaults): g++ not detected!  PyTensor will be unable to compile C-implementations and will default to Python. Performance may be severely degraded. To remove this warning, set PyTensor flags cxx to an empty string.\n",
      "WARNING (pytensor.tensor.blas): Using NumPy C-API based implementation for BLAS functions.\n"
     ]
    }
   ],
   "source": [
    "import aesara\n",
    "import psycopg2\n",
    "import pandas as pd\n",
    "from datetime import datetime, date\n",
    "import seaborn as sns\n",
    "import matplotlib.pyplot as plt\n",
    "from scipy.stats import pearsonr\n",
    "import numpy as np\n",
    "import pymc as pm\n",
    "%matplotlib inline"
   ]
  },
  {
   "cell_type": "code",
   "execution_count": 33,
   "metadata": {},
   "outputs": [],
   "source": [
    "pg_connection = psycopg2.connect(\n",
    "    dbname=\"postgres\",\n",
    "    user=\"apparao\",\n",
    "    password=\"!bern@HARD23\",\n",
    "    host=\"thedb.postgres.database.azure.com\",\n",
    "    port=\"5432\"\n",
    ")\n",
    "\n",
    "pg_cursor = pg_connection.cursor()"
   ]
  },
  {
   "cell_type": "code",
   "execution_count": 45,
   "metadata": {},
   "outputs": [],
   "source": [
    "query = 'select * from pres_election_mdl.fct_election_model_bayes'"
   ]
  },
  {
   "cell_type": "code",
   "execution_count": 46,
   "metadata": {},
   "outputs": [],
   "source": [
    "pg_cursor.execute(query)\n",
    "rows = pg_cursor.fetchall()\n",
    "data_model_columns = [col[0] for col  in pg_cursor.description]"
   ]
  },
  {
   "cell_type": "code",
   "execution_count": 47,
   "metadata": {},
   "outputs": [],
   "source": [
    "data_model_df = pd.DataFrame(rows, columns=data_model_columns)"
   ]
  },
  {
   "cell_type": "code",
   "execution_count": 48,
   "metadata": {},
   "outputs": [],
   "source": [
    "data_model_df_dem = data_model_df.loc[data_model_df.party == 'DEMOCRAT']\n",
    "data_model_df_gop = data_model_df.loc[data_model_df.party == 'REPUBLICAN']"
   ]
  },
  {
   "cell_type": "code",
   "execution_count": 49,
   "metadata": {},
   "outputs": [],
   "source": [
    "data_model_df_dem_2012 = data_model_df_dem.loc[data_model_df_dem.year == 2012]"
   ]
  },
  {
   "cell_type": "code",
   "execution_count": 51,
   "metadata": {},
   "outputs": [],
   "source": [
    "mdl_vars = ['vote_share_prior_election','avg_vote_share_state_party_prior_election'\t,'avg_vote_share_national_party_prior_election']\n",
    "y = ['vote_share']"
   ]
  },
  {
   "cell_type": "code",
   "execution_count": 52,
   "metadata": {},
   "outputs": [
    {
     "data": {
      "text/plain": [
       "<Axes: >"
      ]
     },
     "execution_count": 52,
     "metadata": {},
     "output_type": "execute_result"
    },
    {
     "data": {
      "image/png": "[encoded data removed]",
      "text/plain": [
       "<Figure size 640x480 with 1 Axes>"
      ]
     },
     "metadata": {},
     "output_type": "display_data"
    }
   ],
   "source": [
    "data_model_df_dem_2012.vote_share_prior_election.hist()"
   ]
  },
  {
   "cell_type": "code",
   "execution_count": 53,
   "metadata": {},
   "outputs": [
    {
     "data": {
      "text/plain": [
       "0.4152397396550832"
      ]
     },
     "execution_count": 53,
     "metadata": {},
     "output_type": "execute_result"
    }
   ],
   "source": [
    "data_model_df_dem_2012.vote_share_prior_election.mean()"
   ]
  },
  {
   "cell_type": "code",
   "execution_count": 54,
   "metadata": {},
   "outputs": [
    {
     "data": {
      "text/plain": [
       "0.13851673676522777"
      ]
     },
     "execution_count": 54,
     "metadata": {},
     "output_type": "execute_result"
    }
   ],
   "source": [
    "data_model_df_dem_2012.vote_share_prior_election.std()"
   ]
  },
  {
   "cell_type": "code",
   "execution_count": 55,
   "metadata": {},
   "outputs": [
    {
     "data": {
      "text/html": [
       "<div>\n",
       "<style scoped>\n",
       "    .dataframe tbody tr th:only-of-type {\n",
       "        vertical-align: middle;\n",
       "    }\n",
       "\n",
       "    .dataframe tbody tr th {\n",
       "        vertical-align: top;\n",
       "    }\n",
       "\n",
       "    .dataframe thead th {\n",
       "        text-align: right;\n",
       "    }\n",
       "</style>\n",
       "<table border=\"1\" class=\"dataframe\">\n",
       "  <thead>\n",
       "    <tr style=\"text-align: right;\">\n",
       "      <th></th>\n",
       "      <th>year</th>\n",
       "      <th>state</th>\n",
       "      <th>county_name</th>\n",
       "      <th>fips_short</th>\n",
       "      <th>party</th>\n",
       "      <th>vote_share</th>\n",
       "      <th>vote_share_prior_election</th>\n",
       "      <th>avg_vote_share_state_party_prior_election</th>\n",
       "      <th>avg_vote_share_national_party_prior_election</th>\n",
       "    </tr>\n",
       "  </thead>\n",
       "  <tbody>\n",
       "    <tr>\n",
       "      <th>0</th>\n",
       "      <td>2012</td>\n",
       "      <td>ALABAMA</td>\n",
       "      <td>AUTAUGA</td>\n",
       "      <td>01001</td>\n",
       "      <td>DEMOCRAT</td>\n",
       "      <td>0.265878</td>\n",
       "      <td>0.257730</td>\n",
       "      <td>0.382693</td>\n",
       "      <td>0.41524</td>\n",
       "    </tr>\n",
       "    <tr>\n",
       "      <th>2</th>\n",
       "      <td>2012</td>\n",
       "      <td>ALABAMA</td>\n",
       "      <td>BALDWIN</td>\n",
       "      <td>01003</td>\n",
       "      <td>DEMOCRAT</td>\n",
       "      <td>0.215894</td>\n",
       "      <td>0.238119</td>\n",
       "      <td>0.382693</td>\n",
       "      <td>0.41524</td>\n",
       "    </tr>\n",
       "    <tr>\n",
       "      <th>4</th>\n",
       "      <td>2012</td>\n",
       "      <td>ALABAMA</td>\n",
       "      <td>BARBOUR</td>\n",
       "      <td>01005</td>\n",
       "      <td>DEMOCRAT</td>\n",
       "      <td>0.513685</td>\n",
       "      <td>0.489854</td>\n",
       "      <td>0.382693</td>\n",
       "      <td>0.41524</td>\n",
       "    </tr>\n",
       "    <tr>\n",
       "      <th>6</th>\n",
       "      <td>2012</td>\n",
       "      <td>ALABAMA</td>\n",
       "      <td>BIBB</td>\n",
       "      <td>01007</td>\n",
       "      <td>DEMOCRAT</td>\n",
       "      <td>0.261520</td>\n",
       "      <td>0.265965</td>\n",
       "      <td>0.382693</td>\n",
       "      <td>0.41524</td>\n",
       "    </tr>\n",
       "    <tr>\n",
       "      <th>8</th>\n",
       "      <td>2012</td>\n",
       "      <td>ALABAMA</td>\n",
       "      <td>BLOUNT</td>\n",
       "      <td>01009</td>\n",
       "      <td>DEMOCRAT</td>\n",
       "      <td>0.123719</td>\n",
       "      <td>0.145135</td>\n",
       "      <td>0.382693</td>\n",
       "      <td>0.41524</td>\n",
       "    </tr>\n",
       "    <tr>\n",
       "      <th>...</th>\n",
       "      <td>...</td>\n",
       "      <td>...</td>\n",
       "      <td>...</td>\n",
       "      <td>...</td>\n",
       "      <td>...</td>\n",
       "      <td>...</td>\n",
       "      <td>...</td>\n",
       "      <td>...</td>\n",
       "      <td>...</td>\n",
       "    </tr>\n",
       "    <tr>\n",
       "      <th>6296</th>\n",
       "      <td>2012</td>\n",
       "      <td>WYOMING</td>\n",
       "      <td>SWEETWATER</td>\n",
       "      <td>56037</td>\n",
       "      <td>DEMOCRAT</td>\n",
       "      <td>0.282569</td>\n",
       "      <td>0.342304</td>\n",
       "      <td>0.284144</td>\n",
       "      <td>0.41524</td>\n",
       "    </tr>\n",
       "    <tr>\n",
       "      <th>6298</th>\n",
       "      <td>2012</td>\n",
       "      <td>WYOMING</td>\n",
       "      <td>TETON</td>\n",
       "      <td>56039</td>\n",
       "      <td>DEMOCRAT</td>\n",
       "      <td>0.541957</td>\n",
       "      <td>0.604580</td>\n",
       "      <td>0.284144</td>\n",
       "      <td>0.41524</td>\n",
       "    </tr>\n",
       "    <tr>\n",
       "      <th>6300</th>\n",
       "      <td>2012</td>\n",
       "      <td>WYOMING</td>\n",
       "      <td>UINTA</td>\n",
       "      <td>56041</td>\n",
       "      <td>DEMOCRAT</td>\n",
       "      <td>0.190655</td>\n",
       "      <td>0.275244</td>\n",
       "      <td>0.284144</td>\n",
       "      <td>0.41524</td>\n",
       "    </tr>\n",
       "    <tr>\n",
       "      <th>6302</th>\n",
       "      <td>2012</td>\n",
       "      <td>WYOMING</td>\n",
       "      <td>WASHAKIE</td>\n",
       "      <td>56043</td>\n",
       "      <td>DEMOCRAT</td>\n",
       "      <td>0.201318</td>\n",
       "      <td>0.254146</td>\n",
       "      <td>0.284144</td>\n",
       "      <td>0.41524</td>\n",
       "    </tr>\n",
       "    <tr>\n",
       "      <th>6304</th>\n",
       "      <td>2012</td>\n",
       "      <td>WYOMING</td>\n",
       "      <td>WESTON</td>\n",
       "      <td>56045</td>\n",
       "      <td>DEMOCRAT</td>\n",
       "      <td>0.125633</td>\n",
       "      <td>0.192736</td>\n",
       "      <td>0.284144</td>\n",
       "      <td>0.41524</td>\n",
       "    </tr>\n",
       "  </tbody>\n",
       "</table>\n",
       "<p>3153 rows × 9 columns</p>\n",
       "</div>"
      ],
      "text/plain": [
       "      year    state county_name fips_short     party  vote_share  \\\n",
       "0     2012  ALABAMA     AUTAUGA      01001  DEMOCRAT    0.265878   \n",
       "2     2012  ALABAMA     BALDWIN      01003  DEMOCRAT    0.215894   \n",
       "4     2012  ALABAMA     BARBOUR      01005  DEMOCRAT    0.513685   \n",
       "6     2012  ALABAMA        BIBB      01007  DEMOCRAT    0.261520   \n",
       "8     2012  ALABAMA      BLOUNT      01009  DEMOCRAT    0.123719   \n",
       "...    ...      ...         ...        ...       ...         ...   \n",
       "6296  2012  WYOMING  SWEETWATER      56037  DEMOCRAT    0.282569   \n",
       "6298  2012  WYOMING       TETON      56039  DEMOCRAT    0.541957   \n",
       "6300  2012  WYOMING       UINTA      56041  DEMOCRAT    0.190655   \n",
       "6302  2012  WYOMING    WASHAKIE      56043  DEMOCRAT    0.201318   \n",
       "6304  2012  WYOMING      WESTON      56045  DEMOCRAT    0.125633   \n",
       "\n",
       "      vote_share_prior_election  avg_vote_share_state_party_prior_election  \\\n",
       "0                      0.257730                                   0.382693   \n",
       "2                      0.238119                                   0.382693   \n",
       "4                      0.489854                                   0.382693   \n",
       "6                      0.265965                                   0.382693   \n",
       "8                      0.145135                                   0.382693   \n",
       "...                         ...                                        ...   \n",
       "6296                   0.342304                                   0.284144   \n",
       "6298                   0.604580                                   0.284144   \n",
       "6300                   0.275244                                   0.284144   \n",
       "6302                   0.254146                                   0.284144   \n",
       "6304                   0.192736                                   0.284144   \n",
       "\n",
       "      avg_vote_share_national_party_prior_election  \n",
       "0                                          0.41524  \n",
       "2                                          0.41524  \n",
       "4                                          0.41524  \n",
       "6                                          0.41524  \n",
       "8                                          0.41524  \n",
       "...                                            ...  \n",
       "6296                                       0.41524  \n",
       "6298                                       0.41524  \n",
       "6300                                       0.41524  \n",
       "6302                                       0.41524  \n",
       "6304                                       0.41524  \n",
       "\n",
       "[3153 rows x 9 columns]"
      ]
     },
     "execution_count": 55,
     "metadata": {},
     "output_type": "execute_result"
    }
   ],
   "source": [
    "data_model_df_dem_2012"
   ]
  },
  {
   "cell_type": "code",
   "execution_count": null,
   "metadata": {},
   "outputs": [],
   "source": []
  }
 ],
 "metadata": {
  "kernelspec": {
   "display_name": "Python 3",
   "language": "python",
   "name": "python3"
  },
  "language_info": {
   "codemirror_mode": {
    "name": "ipython",
    "version": 3
   },
   "file_extension": ".py",
   "mimetype": "text/x-python",
   "name": "python",
   "nbconvert_exporter": "python",
   "pygments_lexer": "ipython3",
   "version": "3.11.8"
  }
 },
 "nbformat": 4,
 "nbformat_minor": 2
}
